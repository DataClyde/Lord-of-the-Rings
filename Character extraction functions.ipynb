{
 "cells": [
  {
   "cell_type": "code",
   "execution_count": 2,
   "id": "82d688b2",
   "metadata": {},
   "outputs": [],
   "source": [
    "import pandas as pd\n",
    "import numpy as np \n",
    "import spacy\n",
    "from flair.data import Sentence\n",
    "from flair.models import SbequenceTagger\n",
    "from spacy import displacy\n",
    "import networkx as nx\n",
    "import matplotlib.pyplot as plt\n",
    "import os"
   ]
  },
  {
   "cell_type": "code",
   "execution_count": 32,
   "id": "acac692c",
   "metadata": {},
   "outputs": [],
   "source": [
    "def load_book_ner(book_dir,book_num):\n",
    "    spacy.cli.download(\"en_core_web_sm\")\n",
    "    # Load spacy English languague model\n",
    "    NER = spacy.load(\"en_core_web_sm\")\n",
    "    \n",
    " \n",
    "    # Get all book files in the data directory\n",
    "    all_books = [b for b in os.scandir(book_dir) if '.txt' in b.name]\n",
    "    book=all_books[book_num]\n",
    "    book_text=open(book).read()\n",
    "    book_doc=NER(book_text)\n",
    "    return book_doc"
   ]
  },
  {
   "cell_type": "code",
   "execution_count": 16,
   "id": "0eca1600",
   "metadata": {},
   "outputs": [],
   "source": [
    "def filter_entity(ent_list,character_df):\n",
    "    return [ent for ent in ent_list\n",
    "            if ent in list(character_df['Character'])\n",
    "            or ent in list(character_df['character_firstname'])]"
   ]
  },
  {
   "cell_type": "code",
   "execution_count": 35,
   "id": "801434e5",
   "metadata": {},
   "outputs": [],
   "source": [
    "def sent_entity_df(book_doc,character_df):\n",
    "    import re\n",
    "    sent_entity_df=[]\n",
    "\n",
    "    for sent in book_doc.sents:\n",
    "        entity_list=[ent.text for ent in sent.ents]\n",
    "        sent_entity_df.append({'sentence':sent,'entites':entity_list})\n",
    "\n",
    "    sent_entity_df=pd.DataFrame(sent_entity_df)\n",
    "    sent_entity_df['character_entities']= sent_entity_df['entites'].apply(lambda x: filter_entity(x,character_df))\n",
    "    return sent_entity_df"
   ]
  },
  {
   "cell_type": "code",
   "execution_count": null,
   "id": "3c5bc43c",
   "metadata": {},
   "outputs": [],
   "source": []
  },
  {
   "cell_type": "code",
   "execution_count": 11,
   "id": "4f31ec58",
   "metadata": {},
   "outputs": [],
   "source": [
    "character_df=pd.read_csv('Characters')"
   ]
  },
  {
   "cell_type": "code",
   "execution_count": 14,
   "id": "f26830b2",
   "metadata": {},
   "outputs": [
    {
     "data": {
      "text/html": [
       "<div>\n",
       "<style scoped>\n",
       "    .dataframe tbody tr th:only-of-type {\n",
       "        vertical-align: middle;\n",
       "    }\n",
       "\n",
       "    .dataframe tbody tr th {\n",
       "        vertical-align: top;\n",
       "    }\n",
       "\n",
       "    .dataframe thead th {\n",
       "        text-align: right;\n",
       "    }\n",
       "</style>\n",
       "<table border=\"1\" class=\"dataframe\">\n",
       "  <thead>\n",
       "    <tr style=\"text-align: right;\">\n",
       "      <th></th>\n",
       "      <th>title</th>\n",
       "      <th>Character</th>\n",
       "    </tr>\n",
       "  </thead>\n",
       "  <tbody>\n",
       "    <tr>\n",
       "      <th>0</th>\n",
       "      <td>The Fellowship of the Ring</td>\n",
       "      <td>Adelard Took</td>\n",
       "    </tr>\n",
       "    <tr>\n",
       "      <th>1</th>\n",
       "      <td>The Fellowship of the Ring</td>\n",
       "      <td>Amroth</td>\n",
       "    </tr>\n",
       "    <tr>\n",
       "      <th>2</th>\n",
       "      <td>The Fellowship of the Ring</td>\n",
       "      <td>Anárion</td>\n",
       "    </tr>\n",
       "    <tr>\n",
       "      <th>3</th>\n",
       "      <td>The Fellowship of the Ring</td>\n",
       "      <td>Ancalagon</td>\n",
       "    </tr>\n",
       "    <tr>\n",
       "      <th>4</th>\n",
       "      <td>The Fellowship of the Ring</td>\n",
       "      <td>Andwise Roper</td>\n",
       "    </tr>\n",
       "    <tr>\n",
       "      <th>...</th>\n",
       "      <td>...</td>\n",
       "      <td>...</td>\n",
       "    </tr>\n",
       "    <tr>\n",
       "      <th>210</th>\n",
       "      <td>The two towers</td>\n",
       "      <td>Háma\\t</td>\n",
       "    </tr>\n",
       "    <tr>\n",
       "      <th>211</th>\n",
       "      <td>The two towers</td>\n",
       "      <td>Other Allies and Benevolent Beings</td>\n",
       "    </tr>\n",
       "    <tr>\n",
       "      <th>212</th>\n",
       "      <td>The two towers</td>\n",
       "      <td>Fangorn\\t</td>\n",
       "    </tr>\n",
       "    <tr>\n",
       "      <th>213</th>\n",
       "      <td>The two towers</td>\n",
       "      <td>Bregalad</td>\n",
       "    </tr>\n",
       "    <tr>\n",
       "      <th>214</th>\n",
       "      <td>The two towers</td>\n",
       "      <td>Shadowfax</td>\n",
       "    </tr>\n",
       "  </tbody>\n",
       "</table>\n",
       "<p>215 rows × 2 columns</p>\n",
       "</div>"
      ],
      "text/plain": [
       "                          title                           Character\n",
       "0    The Fellowship of the Ring                        Adelard Took\n",
       "1    The Fellowship of the Ring                              Amroth\n",
       "2    The Fellowship of the Ring                             Anárion\n",
       "3    The Fellowship of the Ring                           Ancalagon\n",
       "4    The Fellowship of the Ring                       Andwise Roper\n",
       "..                          ...                                 ...\n",
       "210              The two towers                              Háma\\t\n",
       "211              The two towers  Other Allies and Benevolent Beings\n",
       "212              The two towers                           Fangorn\\t\n",
       "213              The two towers                            Bregalad\n",
       "214              The two towers                           Shadowfax\n",
       "\n",
       "[215 rows x 2 columns]"
      ]
     },
     "execution_count": 14,
     "metadata": {},
     "output_type": "execute_result"
    }
   ],
   "source": [
    "character_df"
   ]
  },
  {
   "cell_type": "code",
   "execution_count": 18,
   "id": "fa4e863b",
   "metadata": {},
   "outputs": [
    {
     "ename": "TypeError",
     "evalue": "sent_entity_df() missing 1 required positional argument: 'character_df'",
     "output_type": "error",
     "traceback": [
      "\u001b[1;31m---------------------------------------------------------------------------\u001b[0m",
      "\u001b[1;31mTypeError\u001b[0m                                 Traceback (most recent call last)",
      "Input \u001b[1;32mIn [18]\u001b[0m, in \u001b[0;36m<cell line: 1>\u001b[1;34m()\u001b[0m\n\u001b[1;32m----> 1\u001b[0m \u001b[43msent_entity_df\u001b[49m\u001b[43m(\u001b[49m\u001b[43mbook\u001b[49m\u001b[43m,\u001b[49m\u001b[43mcharacter_df\u001b[49m\u001b[43m)\u001b[49m\n",
      "\u001b[1;31mTypeError\u001b[0m: sent_entity_df() missing 1 required positional argument: 'character_df'"
     ]
    }
   ],
   "source": [
    "sent_entity_df(book,character_df)"
   ]
  },
  {
   "cell_type": "code",
   "execution_count": 20,
   "id": "5b0a55c6",
   "metadata": {},
   "outputs": [],
   "source": [
    "def print_msg(msg):\n",
    "    # This is the outer enclosing function\n",
    "\n",
    "    def printer():\n",
    "        # This is the nested function\n",
    "        print(msg)\n",
    "\n",
    "    return printer  # returns the nested function\n",
    "\n",
    "\n"
   ]
  },
  {
   "cell_type": "code",
   "execution_count": 21,
   "id": "dae10337",
   "metadata": {},
   "outputs": [
    {
     "name": "stdout",
     "output_type": "stream",
     "text": [
      "Hello\n"
     ]
    }
   ],
   "source": [
    "# Now let's try calling this function.\n",
    "# Output: Hello\n",
    "another = print_msg(\"Hello\")\n",
    "another()"
   ]
  },
  {
   "cell_type": "code",
   "execution_count": 29,
   "id": "2d56cd23",
   "metadata": {},
   "outputs": [],
   "source": [
    "# We execute the function\n",
    "# Output: Hello\n",
    "print_msg(\"Hello\")"
   ]
  },
  {
   "cell_type": "code",
   "execution_count": 28,
   "id": "9965f8cc",
   "metadata": {},
   "outputs": [],
   "source": [
    "def print_msg(msg):\n",
    "    # This is the outer enclosing function\n",
    "\n",
    "    def printer():\n",
    "        # This is the nested function\n",
    "        print(msg)\n",
    "\n",
    "    printer()\n",
    "\n"
   ]
  },
  {
   "cell_type": "code",
   "execution_count": 43,
   "id": "b6fbb860",
   "metadata": {},
   "outputs": [
    {
     "data": {
      "text/plain": [
       "5040"
      ]
     },
     "execution_count": 43,
     "metadata": {},
     "output_type": "execute_result"
    }
   ],
   "source": [
    ">>> def factorial(number):\n",
    "...     # Validate input\n",
    "...     if not isinstance(number, int):\n",
    "...         raise TypeError(\"Sorry. 'number' must be an integer.\")\n",
    "...     if number < 0:\n",
    "...         raise ValueError(\"Sorry. 'number' must be zero or positive.\")\n",
    "...     # Calculate the factorial of number\n",
    "...     def inner_factorial(number):\n",
    "...         if number <= 1:\n",
    "...             return 1\n",
    "...         return number * inner_factorial(number - 1)\n",
    "...     return inner_factorial(number)\n",
    "...\n",
    "\n",
    ">>> factorial(7)"
   ]
  },
  {
   "cell_type": "code",
   "execution_count": null,
   "id": "7cab872d",
   "metadata": {},
   "outputs": [],
   "source": []
  }
 ],
 "metadata": {
  "kernelspec": {
   "display_name": "Python 3 (ipykernel)",
   "language": "python",
   "name": "python3"
  },
  "language_info": {
   "codemirror_mode": {
    "name": "ipython",
    "version": 3
   },
   "file_extension": ".py",
   "mimetype": "text/x-python",
   "name": "python",
   "nbconvert_exporter": "python",
   "pygments_lexer": "ipython3",
   "version": "3.9.12"
  }
 },
 "nbformat": 4,
 "nbformat_minor": 5
}
