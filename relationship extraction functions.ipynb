{
 "cells": [
  {
   "cell_type": "code",
   "execution_count": 2,
   "id": "d9ffc9c1",
   "metadata": {},
   "outputs": [],
   "source": [
    "import pandas as pd\n",
    "import numpy as np \n",
    "import spacy\n",
    "from flair.data import Sentence\n",
    "from flair.models import SbequenceTagger\n",
    "from spacy import displacy\n",
    "import networkx as nx\n",
    "import matplotlib.pyplot as plt\n",
    "import os"
   ]
  },
  {
   "cell_type": "code",
   "execution_count": 32,
   "id": "41f2617a",
   "metadata": {},
   "outputs": [],
   "source": [
    "def load_book_ner(book_dir,book_num):\n",
    "    spacy.cli.download(\"en_core_web_sm\")\n",
    "    # Load spacy English languague model\n",
    "    NER = spacy.load(\"en_core_web_sm\")\n",
    "    \n",
    " \n",
    "    # Get all book files in the data directory\n",
    "    all_books = [b for b in os.scandir(book_dir) if '.txt' in b.name]\n",
    "    book=all_books[book_num]\n",
    "    book_text=open(book).read()\n",
    "    book_doc=NER(book_text)\n",
    "    return book_doc"
   ]
  },
  {
   "cell_type": "code",
   "execution_count": 16,
   "id": "ec7232f8",
   "metadata": {},
   "outputs": [],
   "source": [
    "def filter_entity(ent_list,character_df):\n",
    "    return [ent for ent in ent_list\n",
    "            if ent in list(character_df['Character'])\n",
    "            or ent in list(character_df['character_firstname'])]"
   ]
  },
  {
   "cell_type": "code",
   "execution_count": 60,
   "id": "76bfc572",
   "metadata": {},
   "outputs": [],
   "source": [
    "def sent_entity_df(book_doc,character_df):\n",
    "    import re\n",
    "    sent_entity_df=[]\n",
    "\n",
    "    for sent in book_doc.sents:\n",
    "        entity_list=[ent.text for ent in sent.ents]\n",
    "        sent_entity_df.append({'sentence':sent,'entites':entity_list})\n",
    "\n",
    "    sent_entity_df=pd.DataFrame(sent_entity_df)\n",
    "    sent_entity_df['character_entities']= sent_entity_df['entites'].apply(lambda x: filter_entity(x,character_df))\n",
    "    sent_entity_df=sent_entity_df[sent_entity_df['character_entities'].map(len)>0]\n",
    "    return sent_entity_df"
   ]
  },
  {
   "cell_type": "code",
   "execution_count": 79,
   "id": "5b59902d",
   "metadata": {},
   "outputs": [],
   "source": [
    "def relationship_df(window,sent_entity_df):\n",
    "    # for creating relationships with window size of 5 (the number of rows included in the relationship extraction)\n",
    "    window_size=window\n",
    "    relationships= []\n",
    "    for i in range(sent_entity_df.index[-1]):\n",
    "        end_i= min(i+5,sent_entity_df.index[-1])\n",
    "        char_list=sum((sent_entity_df.loc[i:end_i].character_entities),[])\n",
    "\n",
    "\n",
    "        #Removes duplicated characters that are next to each other\n",
    "        char_unique=[char_list[i] for i in range(len(char_list))\n",
    "                    if (i==0) or char_list[i] != char_list[i-1]]\n",
    "        if len(char_unique)>1:\n",
    "            for idx,a in enumerate(char_unique[:-1]):\n",
    "                b=char_unique[idx + 1]\n",
    "                relationships.append({'source':a,'target':b})\n",
    "    relationship_df=pd.DataFrame(relationships)            \n",
    "    relationship_df = pd.DataFrame(np.sort(relationship_df.values, axis = 1), columns = relationship_df.columns)\n",
    "    relationship_df[\"value\"]=1\n",
    "    relationship_df=relationship_df.groupby([\"source\",\"target\"], sort=False, as_index=False).sum()\n",
    "                \n",
    "    return relationship_df\n"
   ]
  },
  {
   "cell_type": "code",
   "execution_count": 111,
   "id": "7e884075",
   "metadata": {},
   "outputs": [],
   "source": [
    "def show_relationships(relationship_df):\n",
    "    # Create a graph from a pandas dataframe\n",
    "    from pyvis.network import Network\n",
    "    import community.community_louvain as community_louvain\n",
    "    import networkx as nx\n",
    "    G = nx.from_pandas_edgelist(relationship_df, \n",
    "                                source = \"source\", \n",
    "                                target = \"target\", \n",
    "                                edge_attr = \"value\", \n",
    "                                create_using = nx.Graph())\n",
    "    communities = community_louvain.best_partition(G)\n",
    "    nx.set_node_attributes(G, communities, 'group')\n",
    "    com_net = Network(notebook = True, width=\"1000px\", height=\"700px\", bgcolor='#222222', font_color='white')\n",
    "    com_net.from_nx(G)\n",
    "    a=com_net.show(\"lotr.html\")\n",
    "    return a\n"
   ]
  },
  {
   "cell_type": "code",
   "execution_count": null,
   "id": "9057e4fe",
   "metadata": {},
   "outputs": [],
   "source": [
    "##Testing the functio"
   ]
  },
  {
   "cell_type": "code",
   "execution_count": 50,
   "id": "cbf9cfdf",
   "metadata": {},
   "outputs": [],
   "source": [
    "char=pd.read_csv('Characters')"
   ]
  },
  {
   "cell_type": "code",
   "execution_count": 54,
   "id": "aa247eb4",
   "metadata": {},
   "outputs": [],
   "source": [
    "sents=sent_entity_df(book,char)"
   ]
  },
  {
   "cell_type": "code",
   "execution_count": 87,
   "id": "9f075a9f",
   "metadata": {},
   "outputs": [],
   "source": [
    "trial=relationships(5,sents)"
   ]
  },
  {
   "cell_type": "code",
   "execution_count": 112,
   "id": "08539cbf",
   "metadata": {},
   "outputs": [
    {
     "data": {
      "text/html": [
       "\n",
       "        <iframe\n",
       "            width=\"1000px\"\n",
       "            height=\"700px\"\n",
       "            src=\"lotr.html\"\n",
       "            frameborder=\"0\"\n",
       "            allowfullscreen\n",
       "            \n",
       "        ></iframe>\n",
       "        "
      ],
      "text/plain": [
       "<IPython.lib.display.IFrame at 0x1f10d4b67f0>"
      ]
     },
     "execution_count": 112,
     "metadata": {},
     "output_type": "execute_result"
    }
   ],
   "source": [
    "show_relationships(trial)"
   ]
  },
  {
   "cell_type": "code",
   "execution_count": null,
   "id": "9d61a208",
   "metadata": {},
   "outputs": [],
   "source": []
  }
 ],
 "metadata": {
  "kernelspec": {
   "display_name": "Python 3 (ipykernel)",
   "language": "python",
   "name": "python3"
  },
  "language_info": {
   "codemirror_mode": {
    "name": "ipython",
    "version": 3
   },
   "file_extension": ".py",
   "mimetype": "text/x-python",
   "name": "python",
   "nbconvert_exporter": "python",
   "pygments_lexer": "ipython3",
   "version": "3.9.12"
  }
 },
 "nbformat": 4,
 "nbformat_minor": 5
}
