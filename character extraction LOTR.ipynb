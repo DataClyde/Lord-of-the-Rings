{
 "cells": [
  {
   "cell_type": "code",
   "execution_count": 1,
   "id": "1957bea2",
   "metadata": {},
   "outputs": [],
   "source": [
    "from bs4 import BeautifulSoup\n",
    "import requests\n",
    "import pandas as pd"
   ]
  },
  {
   "cell_type": "code",
   "execution_count": 30,
   "id": "980d7772",
   "metadata": {},
   "outputs": [],
   "source": [
    "#for fandom wiki website\n",
    "def get_characters_fandom(page_link,title):\n",
    "    html=requests.get(page_link).text\n",
    "    soup=BeautifulSoup(html,'html.parser')\n",
    "    char_table=soup.find('div','hidable-content')\n",
    "    char=char_table.find_all('a')\n",
    "    characters=[]\n",
    "    for chars in char:\n",
    "        char_name=chars.text\n",
    "        characters.append({'title':title,'Character':char_name})\n",
    "    character_df=pd.DataFrame(characters)\n",
    "    return character_df"
   ]
  },
  {
   "cell_type": "code",
   "execution_count": 25,
   "id": "a46a709e",
   "metadata": {},
   "outputs": [],
   "source": [
    "#for spark notes website\n",
    "def get_characters_sparknotes(page_link,title):\n",
    "    html=requests.get(page_link).text\n",
    "    soup=BeautifulSoup(html,'html.parser')\n",
    "    char_table=soup.find('div','layout-wrapper-2018')\n",
    "    char=char_table.find_all('h3')\n",
    "    characters=[]\n",
    "    for chars in char:\n",
    "        char_name=chars.text\n",
    "        characters.append({'title':title,'Character':char_name})\n",
    "    character_df=pd.DataFrame(characters)\n",
    "    character_df.drop(character_df.tail(5).index,\n",
    "        inplace = True)\n",
    "    return character_df"
   ]
  },
  {
   "cell_type": "code",
   "execution_count": 2,
   "id": "319a8b9d",
   "metadata": {},
   "outputs": [],
   "source": [
    "def concat_df(df_list):\n",
    "    import re \n",
    "    conc_df=pd.concat(df_list)\n",
    "    conc_df['Character name'] = conc_df['Character'].apply(lambda x: re.sub(\"[\\(].*?[\\)]\", \"\", x)) \n",
    "    conc_df['character_firstname'] = conc_df['Character'].apply(lambda x: x.split(' ', 1)[0])\n",
    "    return conc_df"
   ]
  },
  {
   "cell_type": "code",
   "execution_count": 28,
   "id": "5feb960b",
   "metadata": {},
   "outputs": [],
   "source": [
    "The_two_towers_df=get_characters_sparknotes('https://www.sparknotes.com/lit/twotowers/characters/','The two towers')"
   ]
  },
  {
   "cell_type": "code",
   "execution_count": 32,
   "id": "489e9898",
   "metadata": {},
   "outputs": [],
   "source": [
    "The_return_of_the_king_df=get_characters_sparknotes('https://www.sparknotes.com/lit/returnking/characters/','The Return of the King')"
   ]
  },
  {
   "cell_type": "code",
   "execution_count": 33,
   "id": "3e092610",
   "metadata": {},
   "outputs": [],
   "source": [
    "The_fellowship_of_the_ring_df=get_characters_fandom('https://lotr.fandom.com/wiki/The_Fellowship_of_the_Ring_(novel)','The Fellowship of the Ring')"
   ]
  },
  {
   "cell_type": "code",
   "execution_count": null,
   "id": "980e41f1",
   "metadata": {},
   "outputs": [],
   "source": [
    "#pdList = [df1, df2, ...]  # List of your dataframes\n",
    "#new_df = pd.concat(pdList)"
   ]
  },
  {
   "cell_type": "code",
   "execution_count": 34,
   "id": "1ec13fec",
   "metadata": {},
   "outputs": [],
   "source": [
    "pd_list=[The_fellowship_of_the_ring_df,The_return_of_the_king_df,The_two_towers_df]"
   ]
  },
  {
   "cell_type": "code",
   "execution_count": 35,
   "id": "233c131a",
   "metadata": {},
   "outputs": [],
   "source": [
    "new_df=pd.concat(pd_list)"
   ]
  },
  {
   "cell_type": "code",
   "execution_count": 37,
   "id": "6056465d",
   "metadata": {},
   "outputs": [],
   "source": [
    "new_df.to_csv('Characters',index=False)"
   ]
  },
  {
   "cell_type": "code",
   "execution_count": null,
   "id": "94ecd76c",
   "metadata": {},
   "outputs": [],
   "source": []
  }
 ],
 "metadata": {
  "kernelspec": {
   "display_name": "Python 3 (ipykernel)",
   "language": "python",
   "name": "python3"
  },
  "language_info": {
   "codemirror_mode": {
    "name": "ipython",
    "version": 3
   },
   "file_extension": ".py",
   "mimetype": "text/x-python",
   "name": "python",
   "nbconvert_exporter": "python",
   "pygments_lexer": "ipython3",
   "version": "3.9.12"
  }
 },
 "nbformat": 4,
 "nbformat_minor": 5
}
